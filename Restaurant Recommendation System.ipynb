{
    "cells": [
        {
            "metadata": {
                "collapsed": true
            },
            "cell_type": "markdown",
            "source": "## Restaurant Recommendation System"
        },
        {
            "metadata": {},
            "cell_type": "markdown",
            "source": "This Restaurant Recommendation System is used to analyze the available Restaurant data in a perticular city and adivice the user \nwith the place details where he can start the new Restaurant. "
        },
        {
            "metadata": {},
            "cell_type": "markdown",
            "source": "#### Importing necessary Libraries"
        },
        {
            "metadata": {},
            "cell_type": "code",
            "source": "import requests\nimport pandas as pd\nimport numpy as np\nimport random\n\nfrom geopy.geocoders import Nominatim\n\nfrom IPython.display import Image\nfrom IPython.core.display import HTML\n\nfrom pandas.io.json import json_normalize\n\n!conda install -c conda-forge folium=0.5.0 --yes\nimport folium \n\nprint('Folium installed')\nprint('Libraries imported')",
            "execution_count": 2,
            "outputs": [
                {
                    "output_type": "stream",
                    "text": "Solving environment: done\n\n## Package Plan ##\n\n  environment location: /opt/conda/envs/Python36\n\n  added / updated specs: \n    - folium=0.5.0\n\n\nThe following packages will be downloaded:\n\n    package                    |            build\n    ---------------------------|-----------------\n    openssl-1.1.1g             |       h516909a_0         2.1 MB  conda-forge\n    branca-0.4.1               |             py_0          26 KB  conda-forge\n    vincent-0.4.4              |             py_1          28 KB  conda-forge\n    altair-4.1.0               |             py_1         614 KB  conda-forge\n    ca-certificates-2020.6.20  |       hecda079_0         145 KB  conda-forge\n    certifi-2020.6.20          |   py36h9f0ad1d_0         151 KB  conda-forge\n    folium-0.5.0               |             py_0          45 KB  conda-forge\n    python_abi-3.6             |          1_cp36m           4 KB  conda-forge\n    ------------------------------------------------------------\n                                           Total:         3.1 MB\n\nThe following NEW packages will be INSTALLED:\n\n    altair:          4.1.0-py_1        conda-forge\n    branca:          0.4.1-py_0        conda-forge\n    folium:          0.5.0-py_0        conda-forge\n    python_abi:      3.6-1_cp36m       conda-forge\n    vincent:         0.4.4-py_1        conda-forge\n\nThe following packages will be UPDATED:\n\n    certifi:         2020.6.20-py36_0              --> 2020.6.20-py36h9f0ad1d_0 conda-forge\n    openssl:         1.1.1g-h7b6447c_0             --> 1.1.1g-h516909a_0        conda-forge\n\nThe following packages will be DOWNGRADED:\n\n    ca-certificates: 2020.6.24-0                   --> 2020.6.20-hecda079_0     conda-forge\n\n\nDownloading and Extracting Packages\nopenssl-1.1.1g       | 2.1 MB    | ##################################### | 100% \nbranca-0.4.1         | 26 KB     | ##################################### | 100% \nvincent-0.4.4        | 28 KB     | ##################################### | 100% \naltair-4.1.0         | 614 KB    | ##################################### | 100% \nca-certificates-2020 | 145 KB    | ##################################### | 100% \ncertifi-2020.6.20    | 151 KB    | ##################################### | 100% \nfolium-0.5.0         | 45 KB     | ##################################### | 100% \npython_abi-3.6       | 4 KB      | ##################################### | 100% \nPreparing transaction: done\nVerifying transaction: done\nExecuting transaction: done\nFolium installed\nLibraries imported\n",
                    "name": "stdout"
                }
            ]
        },
        {
            "metadata": {},
            "cell_type": "markdown",
            "source": "## Define Foursquare credentials "
        },
        {
            "metadata": {},
            "cell_type": "code",
            "source": "CLIENT_ID = 'KK2CAPVUQYDEWVDF0LXWA2H5D25OPJTZBIEY1RTQ1MZHGFF4' # your Foursquare ID\nCLIENT_SECRET = 'JRVYNHJ3BZSDGQ2DMT04Z3PEQCRKE5EIV0WYQRY1OXGZUVBK' # your Foursquare Secret\nVERSION = '20180604'\nLIMIT = 30\nprint('Your credentails:')\nprint('CLIENT_ID: ' + CLIENT_ID)\nprint('CLIENT_SECRET:' + CLIENT_SECRET)",
            "execution_count": 3,
            "outputs": [
                {
                    "output_type": "stream",
                    "text": "Your credentails:\nCLIENT_ID: KK2CAPVUQYDEWVDF0LXWA2H5D25OPJTZBIEY1RTQ1MZHGFF4\nCLIENT_SECRET:JRVYNHJ3BZSDGQ2DMT04Z3PEQCRKE5EIV0WYQRY1OXGZUVBK\n",
                    "name": "stdout"
                }
            ]
        },
        {
            "metadata": {},
            "cell_type": "markdown",
            "source": "Lets plan that we are planning to open a Chinese restaurant. For that first we find what are the chinese restaurants available in Dallas."
        },
        {
            "metadata": {},
            "cell_type": "code",
            "source": "address = '3011 Gulden Ln Ste 110,Dallas,TX'\n\ngeolocator = Nominatim(user_agent=\"foursquare_agent\")\nlocation = geolocator.geocode(address)\nlatitude = location.latitude\nlongitude = location.longitude\nprint(latitude, longitude)",
            "execution_count": 7,
            "outputs": [
                {
                    "output_type": "stream",
                    "text": "32.7792282 -96.8278896\n",
                    "name": "stdout"
                }
            ]
        },
        {
            "metadata": {},
            "cell_type": "markdown",
            "source": "## Search for Chinese restaurants"
        },
        {
            "metadata": {},
            "cell_type": "code",
            "source": "search_query = 'Chinese'\nradius = 500\nprint(search_query + '... Ok!')",
            "execution_count": 8,
            "outputs": [
                {
                    "output_type": "stream",
                    "text": "Chinese... Ok!\n",
                    "name": "stdout"
                }
            ]
        },
        {
            "metadata": {},
            "cell_type": "markdown",
            "source": "Define the corresponding URL"
        },
        {
            "metadata": {},
            "cell_type": "code",
            "source": "url = 'https://api.foursquare.com/v2/venues/search?client_id={}&client_secret={}&ll={},{}&v={}&query={}&radius={}&limit={}'.format(CLIENT_ID, CLIENT_SECRET, latitude, longitude, VERSION, search_query, radius, LIMIT)\nurl",
            "execution_count": 9,
            "outputs": [
                {
                    "output_type": "execute_result",
                    "execution_count": 9,
                    "data": {
                        "text/plain": "'https://api.foursquare.com/v2/venues/search?client_id=KK2CAPVUQYDEWVDF0LXWA2H5D25OPJTZBIEY1RTQ1MZHGFF4&client_secret=JRVYNHJ3BZSDGQ2DMT04Z3PEQCRKE5EIV0WYQRY1OXGZUVBK&ll=32.7792282,-96.8278896&v=20180604&query=Chinese&radius=500&limit=30'"
                    },
                    "metadata": {}
                }
            ]
        },
        {
            "metadata": {},
            "cell_type": "code",
            "source": "results = requests.get(url).json()\nresults",
            "execution_count": 10,
            "outputs": [
                {
                    "output_type": "execute_result",
                    "execution_count": 10,
                    "data": {
                        "text/plain": "{'meta': {'code': 200, 'requestId': '5f13d9a4e5f51910d6ff2c16'},\n 'response': {'venues': [{'id': '5ee910fed7054d000853856f',\n    'name': 'Sum Dang Good Chinese',\n    'location': {'address': '3011 Gulden Ln',\n     'lat': 32.779453,\n     'lng': -96.828723,\n     'labeledLatLngs': [{'label': 'display',\n       'lat': 32.779453,\n       'lng': -96.828723}],\n     'distance': 81,\n     'postalCode': '75212',\n     'cc': 'US',\n     'city': 'Dallas',\n     'state': 'TX',\n     'country': 'United States',\n     'formattedAddress': ['3011 Gulden Ln',\n      'Dallas, TX 75212',\n      'United States']},\n    'categories': [{'id': '4bf58dd8d48988d145941735',\n      'name': 'Chinese Restaurant',\n      'pluralName': 'Chinese Restaurants',\n      'shortName': 'Chinese',\n      'icon': {'prefix': 'https://ss3.4sqi.net/img/categories_v2/food/asian_',\n       'suffix': '.png'},\n      'primary': True}],\n    'delivery': {'id': '2048307',\n     'url': 'https://www.grubhub.com/restaurant/sum-dang-good-3011-gulden-ln-dallas/2048307?affiliate=1131&utm_source=foursquare-affiliate-network&utm_medium=affiliate&utm_campaign=1131&utm_content=2048307',\n     'provider': {'name': 'grubhub',\n      'icon': {'prefix': 'https://fastly.4sqi.net/img/general/cap/',\n       'sizes': [40, 50],\n       'name': '/delivery_provider_grubhub_20180129.png'}}},\n    'referralId': 'v-1595136588',\n    'hasPerk': False}]}}"
                    },
                    "metadata": {}
                }
            ]
        },
        {
            "metadata": {},
            "cell_type": "code",
            "source": "venues = results['response']['venues']\n\ndataframe = json_normalize(venues)\ndataframe.head()",
            "execution_count": 11,
            "outputs": [
                {
                    "output_type": "execute_result",
                    "execution_count": 11,
                    "data": {
                        "text/plain": "                                          categories delivery.id  \\\n0  [{'id': '4bf58dd8d48988d145941735', 'name': 'C...     2048307   \n\n               delivery.provider.icon.name  \\\n0  /delivery_provider_grubhub_20180129.png   \n\n              delivery.provider.icon.prefix delivery.provider.icon.sizes  \\\n0  https://fastly.4sqi.net/img/general/cap/                     [40, 50]   \n\n  delivery.provider.name                                       delivery.url  \\\n0                grubhub  https://www.grubhub.com/restaurant/sum-dang-go...   \n\n   hasPerk                        id location.address  ... location.country  \\\n0    False  5ee910fed7054d000853856f   3011 Gulden Ln  ...    United States   \n\n  location.distance                          location.formattedAddress  \\\n0                81  [3011 Gulden Ln, Dallas, TX 75212, United States]   \n\n                             location.labeledLatLngs location.lat  \\\n0  [{'label': 'display', 'lat': 32.779453, 'lng':...    32.779453   \n\n  location.lng  location.postalCode  location.state                   name  \\\n0   -96.828723                75212              TX  Sum Dang Good Chinese   \n\n     referralId  \n0  v-1595136588  \n\n[1 rows x 22 columns]",
                        "text/html": "<div>\n<style scoped>\n    .dataframe tbody tr th:only-of-type {\n        vertical-align: middle;\n    }\n\n    .dataframe tbody tr th {\n        vertical-align: top;\n    }\n\n    .dataframe thead th {\n        text-align: right;\n    }\n</style>\n<table border=\"1\" class=\"dataframe\">\n  <thead>\n    <tr style=\"text-align: right;\">\n      <th></th>\n      <th>categories</th>\n      <th>delivery.id</th>\n      <th>delivery.provider.icon.name</th>\n      <th>delivery.provider.icon.prefix</th>\n      <th>delivery.provider.icon.sizes</th>\n      <th>delivery.provider.name</th>\n      <th>delivery.url</th>\n      <th>hasPerk</th>\n      <th>id</th>\n      <th>location.address</th>\n      <th>...</th>\n      <th>location.country</th>\n      <th>location.distance</th>\n      <th>location.formattedAddress</th>\n      <th>location.labeledLatLngs</th>\n      <th>location.lat</th>\n      <th>location.lng</th>\n      <th>location.postalCode</th>\n      <th>location.state</th>\n      <th>name</th>\n      <th>referralId</th>\n    </tr>\n  </thead>\n  <tbody>\n    <tr>\n      <th>0</th>\n      <td>[{'id': '4bf58dd8d48988d145941735', 'name': 'C...</td>\n      <td>2048307</td>\n      <td>/delivery_provider_grubhub_20180129.png</td>\n      <td>https://fastly.4sqi.net/img/general/cap/</td>\n      <td>[40, 50]</td>\n      <td>grubhub</td>\n      <td>https://www.grubhub.com/restaurant/sum-dang-go...</td>\n      <td>False</td>\n      <td>5ee910fed7054d000853856f</td>\n      <td>3011 Gulden Ln</td>\n      <td>...</td>\n      <td>United States</td>\n      <td>81</td>\n      <td>[3011 Gulden Ln, Dallas, TX 75212, United States]</td>\n      <td>[{'label': 'display', 'lat': 32.779453, 'lng':...</td>\n      <td>32.779453</td>\n      <td>-96.828723</td>\n      <td>75212</td>\n      <td>TX</td>\n      <td>Sum Dang Good Chinese</td>\n      <td>v-1595136588</td>\n    </tr>\n  </tbody>\n</table>\n<p>1 rows \u00d7 22 columns</p>\n</div>"
                    },
                    "metadata": {}
                }
            ]
        },
        {
            "metadata": {},
            "cell_type": "code",
            "source": "filtered_columns = ['name', 'categories'] + [col for col in dataframe.columns if col.startswith('location.')] + ['id']\ndataframe_filtered = dataframe.loc[:, filtered_columns]\n\n# function that extracts the category of the venue\ndef get_category_type(row):\n    try:\n        categories_list = row['categories']\n    except:\n        categories_list = row['venue.categories']\n        \n    if len(categories_list) == 0:\n        return None\n    else:\n        return categories_list[0]['name']\n\n# filter the category for each row\ndataframe_filtered['categories'] = dataframe_filtered.apply(get_category_type, axis=1)\n\n# clean column names by keeping only last term\ndataframe_filtered.columns = [column.split('.')[-1] for column in dataframe_filtered.columns]\n\ndataframe_filtered",
            "execution_count": 12,
            "outputs": [
                {
                    "output_type": "execute_result",
                    "execution_count": 12,
                    "data": {
                        "text/plain": "                    name          categories         address  cc    city  \\\n0  Sum Dang Good Chinese  Chinese Restaurant  3011 Gulden Ln  US  Dallas   \n\n         country  distance                                   formattedAddress  \\\n0  United States        81  [3011 Gulden Ln, Dallas, TX 75212, United States]   \n\n                                      labeledLatLngs        lat        lng  \\\n0  [{'label': 'display', 'lat': 32.779453, 'lng':...  32.779453 -96.828723   \n\n  postalCode state                        id  \n0      75212    TX  5ee910fed7054d000853856f  ",
                        "text/html": "<div>\n<style scoped>\n    .dataframe tbody tr th:only-of-type {\n        vertical-align: middle;\n    }\n\n    .dataframe tbody tr th {\n        vertical-align: top;\n    }\n\n    .dataframe thead th {\n        text-align: right;\n    }\n</style>\n<table border=\"1\" class=\"dataframe\">\n  <thead>\n    <tr style=\"text-align: right;\">\n      <th></th>\n      <th>name</th>\n      <th>categories</th>\n      <th>address</th>\n      <th>cc</th>\n      <th>city</th>\n      <th>country</th>\n      <th>distance</th>\n      <th>formattedAddress</th>\n      <th>labeledLatLngs</th>\n      <th>lat</th>\n      <th>lng</th>\n      <th>postalCode</th>\n      <th>state</th>\n      <th>id</th>\n    </tr>\n  </thead>\n  <tbody>\n    <tr>\n      <th>0</th>\n      <td>Sum Dang Good Chinese</td>\n      <td>Chinese Restaurant</td>\n      <td>3011 Gulden Ln</td>\n      <td>US</td>\n      <td>Dallas</td>\n      <td>United States</td>\n      <td>81</td>\n      <td>[3011 Gulden Ln, Dallas, TX 75212, United States]</td>\n      <td>[{'label': 'display', 'lat': 32.779453, 'lng':...</td>\n      <td>32.779453</td>\n      <td>-96.828723</td>\n      <td>75212</td>\n      <td>TX</td>\n      <td>5ee910fed7054d000853856f</td>\n    </tr>\n  </tbody>\n</table>\n</div>"
                    },
                    "metadata": {}
                }
            ]
        },
        {
            "metadata": {},
            "cell_type": "code",
            "source": "dataframe_filtered.name",
            "execution_count": null,
            "outputs": []
        }
    ],
    "metadata": {
        "kernelspec": {
            "name": "python3",
            "display_name": "Python 3.6",
            "language": "python"
        },
        "language_info": {
            "name": "python",
            "version": "3.6.9",
            "mimetype": "text/x-python",
            "codemirror_mode": {
                "name": "ipython",
                "version": 3
            },
            "pygments_lexer": "ipython3",
            "nbconvert_exporter": "python",
            "file_extension": ".py"
        }
    },
    "nbformat": 4,
    "nbformat_minor": 1
}