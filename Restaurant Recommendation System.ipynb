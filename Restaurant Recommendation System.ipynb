{
    "cells": [
        {
            "metadata": {
                "collapsed": true
            },
            "cell_type": "markdown",
            "source": "## Restaurant Recommendation System"
        },
        {
            "metadata": {},
            "cell_type": "markdown",
            "source": "This Restaurant Recommendation System is used to analyze the available Restaurant data in a perticular city and adivice the user \nwith the place details where he can start the new Restaurant. "
        },
        {
            "metadata": {},
            "cell_type": "markdown",
            "source": "#### Importing necessary Libraries"
        },
        {
            "metadata": {},
            "cell_type": "code",
            "source": "import requests\nimport pandas as pd\nimport numpy as np\nimport random\n\nfrom geopy.geocoders import Nominatim\n\nfrom IPython.display import Image\nfrom IPython.core.display import HTML\n\nfrom pandas.io.json import json_normalize\n\n!conda install -c conda-forge folium=0.5.0 --yes\nimport folium \n\nprint('Folium installed')\nprint('Libraries imported')",
            "execution_count": 2,
            "outputs": [
                {
                    "output_type": "stream",
                    "text": "Solving environment: done\n\n## Package Plan ##\n\n  environment location: /opt/conda/envs/Python36\n\n  added / updated specs: \n    - folium=0.5.0\n\n\nThe following packages will be downloaded:\n\n    package                    |            build\n    ---------------------------|-----------------\n    openssl-1.1.1g             |       h516909a_0         2.1 MB  conda-forge\n    branca-0.4.1               |             py_0          26 KB  conda-forge\n    vincent-0.4.4              |             py_1          28 KB  conda-forge\n    altair-4.1.0               |             py_1         614 KB  conda-forge\n    ca-certificates-2020.6.20  |       hecda079_0         145 KB  conda-forge\n    certifi-2020.6.20          |   py36h9f0ad1d_0         151 KB  conda-forge\n    folium-0.5.0               |             py_0          45 KB  conda-forge\n    python_abi-3.6             |          1_cp36m           4 KB  conda-forge\n    ------------------------------------------------------------\n                                           Total:         3.1 MB\n\nThe following NEW packages will be INSTALLED:\n\n    altair:          4.1.0-py_1        conda-forge\n    branca:          0.4.1-py_0        conda-forge\n    folium:          0.5.0-py_0        conda-forge\n    python_abi:      3.6-1_cp36m       conda-forge\n    vincent:         0.4.4-py_1        conda-forge\n\nThe following packages will be UPDATED:\n\n    certifi:         2020.6.20-py36_0              --> 2020.6.20-py36h9f0ad1d_0 conda-forge\n    openssl:         1.1.1g-h7b6447c_0             --> 1.1.1g-h516909a_0        conda-forge\n\nThe following packages will be DOWNGRADED:\n\n    ca-certificates: 2020.6.24-0                   --> 2020.6.20-hecda079_0     conda-forge\n\n\nDownloading and Extracting Packages\nopenssl-1.1.1g       | 2.1 MB    | ##################################### | 100% \nbranca-0.4.1         | 26 KB     | ##################################### | 100% \nvincent-0.4.4        | 28 KB     | ##################################### | 100% \naltair-4.1.0         | 614 KB    | ##################################### | 100% \nca-certificates-2020 | 145 KB    | ##################################### | 100% \ncertifi-2020.6.20    | 151 KB    | ##################################### | 100% \nfolium-0.5.0         | 45 KB     | ##################################### | 100% \npython_abi-3.6       | 4 KB      | ##################################### | 100% \nPreparing transaction: done\nVerifying transaction: done\nExecuting transaction: done\nFolium installed\nLibraries imported\n",
                    "name": "stdout"
                }
            ]
        },
        {
            "metadata": {},
            "cell_type": "markdown",
            "source": "## Define Foursquare credentials "
        },
        {
            "metadata": {},
            "cell_type": "code",
            "source": "CLIENT_ID = 'KK2CAPVUQYDEWVDF0LXWA2H5D25OPJTZBIEY1RTQ1MZHGFF4' # your Foursquare ID\nCLIENT_SECRET = 'JRVYNHJ3BZSDGQ2DMT04Z3PEQCRKE5EIV0WYQRY1OXGZUVBK' # your Foursquare Secret\nVERSION = '20180604'\nLIMIT = 30\nprint('Your credentails:')\nprint('CLIENT_ID: ' + CLIENT_ID)\nprint('CLIENT_SECRET:' + CLIENT_SECRET)",
            "execution_count": 3,
            "outputs": [
                {
                    "output_type": "stream",
                    "text": "Your credentails:\nCLIENT_ID: KK2CAPVUQYDEWVDF0LXWA2H5D25OPJTZBIEY1RTQ1MZHGFF4\nCLIENT_SECRET:JRVYNHJ3BZSDGQ2DMT04Z3PEQCRKE5EIV0WYQRY1OXGZUVBK\n",
                    "name": "stdout"
                }
            ]
        },
        {
            "metadata": {},
            "cell_type": "markdown",
            "source": "Lets plan that we are planning to open a Chinese restaurant. For that first we find what are the chinese restaurants available in Dallas."
        },
        {
            "metadata": {},
            "cell_type": "code",
            "source": "address = '3011 Gulden Ln Ste 110,Dallas,TX'\n\ngeolocator = Nominatim(user_agent=\"foursquare_agent\")\nlocation = geolocator.geocode(address)\nlatitude = location.latitude\nlongitude = location.longitude\nprint(latitude, longitude)",
            "execution_count": 7,
            "outputs": [
                {
                    "output_type": "stream",
                    "text": "32.7792282 -96.8278896\n",
                    "name": "stdout"
                }
            ]
        },
        {
            "metadata": {},
            "cell_type": "markdown",
            "source": "## Search for Chinese restaurants"
        },
        {
            "metadata": {},
            "cell_type": "code",
            "source": "search_query = 'Chinese'\nradius = 500\nprint(search_query + '... Ok!')",
            "execution_count": 8,
            "outputs": [
                {
                    "output_type": "stream",
                    "text": "Chinese... Ok!\n",
                    "name": "stdout"
                }
            ]
        },
        {
            "metadata": {},
            "cell_type": "markdown",
            "source": "Define the corresponding URL"
        },
        {
            "metadata": {},
            "cell_type": "code",
            "source": "url = 'https://api.foursquare.com/v2/venues/search?client_id={}&client_secret={}&ll={},{}&v={}&query={}&radius={}&limit={}'.format(CLIENT_ID, CLIENT_SECRET, latitude, longitude, VERSION, search_query, radius, LIMIT)\nurl",
            "execution_count": 9,
            "outputs": [
                {
                    "output_type": "execute_result",
                    "execution_count": 9,
                    "data": {
                        "text/plain": "'https://api.foursquare.com/v2/venues/search?client_id=KK2CAPVUQYDEWVDF0LXWA2H5D25OPJTZBIEY1RTQ1MZHGFF4&client_secret=JRVYNHJ3BZSDGQ2DMT04Z3PEQCRKE5EIV0WYQRY1OXGZUVBK&ll=32.7792282,-96.8278896&v=20180604&query=Chinese&radius=500&limit=30'"
                    },
                    "metadata": {}
                }
            ]
        },
        {
            "metadata": {},
            "cell_type": "code",
            "source": "results = requests.get(url).json()\nresults",
            "execution_count": 10,
            "outputs": [
                {
                    "output_type": "execute_result",
                    "execution_count": 10,
                    "data": {
                        "text/plain": "{'meta': {'code': 200, 'requestId': '5f13d9a4e5f51910d6ff2c16'},\n 'response': {'venues': [{'id': '5ee910fed7054d000853856f',\n    'name': 'Sum Dang Good Chinese',\n    'location': {'address': '3011 Gulden Ln',\n     'lat': 32.779453,\n     'lng': -96.828723,\n     'labeledLatLngs': [{'label': 'display',\n       'lat': 32.779453,\n       'lng': -96.828723}],\n     'distance': 81,\n     'postalCode': '75212',\n     'cc': 'US',\n     'city': 'Dallas',\n     'state': 'TX',\n     'country': 'United States',\n     'formattedAddress': ['3011 Gulden Ln',\n      'Dallas, TX 75212',\n      'United States']},\n    'categories': [{'id': '4bf58dd8d48988d145941735',\n      'name': 'Chinese Restaurant',\n      'pluralName': 'Chinese Restaurants',\n      'shortName': 'Chinese',\n      'icon': {'prefix': 'https://ss3.4sqi.net/img/categories_v2/food/asian_',\n       'suffix': '.png'},\n      'primary': True}],\n    'delivery': {'id': '2048307',\n     'url': 'https://www.grubhub.com/restaurant/sum-dang-good-3011-gulden-ln-dallas/2048307?affiliate=1131&utm_source=foursquare-affiliate-network&utm_medium=affiliate&utm_campaign=1131&utm_content=2048307',\n     'provider': {'name': 'grubhub',\n      'icon': {'prefix': 'https://fastly.4sqi.net/img/general/cap/',\n       'sizes': [40, 50],\n       'name': '/delivery_provider_grubhub_20180129.png'}}},\n    'referralId': 'v-1595136588',\n    'hasPerk': False}]}}"
                    },
                    "metadata": {}
                }
            ]
        },
        {
            "metadata": {},
            "cell_type": "code",
            "source": "venues = results['response']['venues']\n\ndataframe = json_normalize(venues)\ndataframe.head()",
            "execution_count": 11,
            "outputs": [
                {
                    "output_type": "execute_result",
                    "execution_count": 11,
                    "data": {
                        "text/plain": "                                          categories delivery.id  \\\n0  [{'id': '4bf58dd8d48988d145941735', 'name': 'C...     2048307   \n\n               delivery.provider.icon.name  \\\n0  /delivery_provider_grubhub_20180129.png   \n\n              delivery.provider.icon.prefix delivery.provider.icon.sizes  \\\n0  https://fastly.4sqi.net/img/general/cap/                     [40, 50]   \n\n  delivery.provider.name                                       delivery.url  \\\n0                grubhub  https://www.grubhub.com/restaurant/sum-dang-go...   \n\n   hasPerk                        id location.address  ... location.country  \\\n0    False  5ee910fed7054d000853856f   3011 Gulden Ln  ...    United States   \n\n  location.distance                          location.formattedAddress  \\\n0                81  [3011 Gulden Ln, Dallas, TX 75212, United States]   \n\n                             location.labeledLatLngs location.lat  \\\n0  [{'label': 'display', 'lat': 32.779453, 'lng':...    32.779453   \n\n  location.lng  location.postalCode  location.state                   name  \\\n0   -96.828723                75212              TX  Sum Dang Good Chinese   \n\n     referralId  \n0  v-1595136588  \n\n[1 rows x 22 columns]",
                        "text/html": "<div>\n<style scoped>\n    .dataframe tbody tr th:only-of-type {\n        vertical-align: middle;\n    }\n\n    .dataframe tbody tr th {\n        vertical-align: top;\n    }\n\n    .dataframe thead th {\n        text-align: right;\n    }\n</style>\n<table border=\"1\" class=\"dataframe\">\n  <thead>\n    <tr style=\"text-align: right;\">\n      <th></th>\n      <th>categories</th>\n      <th>delivery.id</th>\n      <th>delivery.provider.icon.name</th>\n      <th>delivery.provider.icon.prefix</th>\n      <th>delivery.provider.icon.sizes</th>\n      <th>delivery.provider.name</th>\n      <th>delivery.url</th>\n      <th>hasPerk</th>\n      <th>id</th>\n      <th>location.address</th>\n      <th>...</th>\n      <th>location.country</th>\n      <th>location.distance</th>\n      <th>location.formattedAddress</th>\n      <th>location.labeledLatLngs</th>\n      <th>location.lat</th>\n      <th>location.lng</th>\n      <th>location.postalCode</th>\n      <th>location.state</th>\n      <th>name</th>\n      <th>referralId</th>\n    </tr>\n  </thead>\n  <tbody>\n    <tr>\n      <th>0</th>\n      <td>[{'id': '4bf58dd8d48988d145941735', 'name': 'C...</td>\n      <td>2048307</td>\n      <td>/delivery_provider_grubhub_20180129.png</td>\n      <td>https://fastly.4sqi.net/img/general/cap/</td>\n      <td>[40, 50]</td>\n      <td>grubhub</td>\n      <td>https://www.grubhub.com/restaurant/sum-dang-go...</td>\n      <td>False</td>\n      <td>5ee910fed7054d000853856f</td>\n      <td>3011 Gulden Ln</td>\n      <td>...</td>\n      <td>United States</td>\n      <td>81</td>\n      <td>[3011 Gulden Ln, Dallas, TX 75212, United States]</td>\n      <td>[{'label': 'display', 'lat': 32.779453, 'lng':...</td>\n      <td>32.779453</td>\n      <td>-96.828723</td>\n      <td>75212</td>\n      <td>TX</td>\n      <td>Sum Dang Good Chinese</td>\n      <td>v-1595136588</td>\n    </tr>\n  </tbody>\n</table>\n<p>1 rows \u00d7 22 columns</p>\n</div>"
                    },
                    "metadata": {}
                }
            ]
        },
        {
            "metadata": {},
            "cell_type": "code",
            "source": "filtered_columns = ['name', 'categories'] + [col for col in dataframe.columns if col.startswith('location.')] + ['id']\ndataframe_filtered = dataframe.loc[:, filtered_columns]\n\n# function that extracts the category of the venue\ndef get_category_type(row):\n    try:\n        categories_list = row['categories']\n    except:\n        categories_list = row['venue.categories']\n        \n    if len(categories_list) == 0:\n        return None\n    else:\n        return categories_list[0]['name']\n\n# filter the category for each row\ndataframe_filtered['categories'] = dataframe_filtered.apply(get_category_type, axis=1)\n\n# clean column names by keeping only last term\ndataframe_filtered.columns = [column.split('.')[-1] for column in dataframe_filtered.columns]\n\ndataframe_filtered",
            "execution_count": 12,
            "outputs": [
                {
                    "output_type": "execute_result",
                    "execution_count": 12,
                    "data": {
                        "text/plain": "                    name          categories         address  cc    city  \\\n0  Sum Dang Good Chinese  Chinese Restaurant  3011 Gulden Ln  US  Dallas   \n\n         country  distance                                   formattedAddress  \\\n0  United States        81  [3011 Gulden Ln, Dallas, TX 75212, United States]   \n\n                                      labeledLatLngs        lat        lng  \\\n0  [{'label': 'display', 'lat': 32.779453, 'lng':...  32.779453 -96.828723   \n\n  postalCode state                        id  \n0      75212    TX  5ee910fed7054d000853856f  ",
                        "text/html": "<div>\n<style scoped>\n    .dataframe tbody tr th:only-of-type {\n        vertical-align: middle;\n    }\n\n    .dataframe tbody tr th {\n        vertical-align: top;\n    }\n\n    .dataframe thead th {\n        text-align: right;\n    }\n</style>\n<table border=\"1\" class=\"dataframe\">\n  <thead>\n    <tr style=\"text-align: right;\">\n      <th></th>\n      <th>name</th>\n      <th>categories</th>\n      <th>address</th>\n      <th>cc</th>\n      <th>city</th>\n      <th>country</th>\n      <th>distance</th>\n      <th>formattedAddress</th>\n      <th>labeledLatLngs</th>\n      <th>lat</th>\n      <th>lng</th>\n      <th>postalCode</th>\n      <th>state</th>\n      <th>id</th>\n    </tr>\n  </thead>\n  <tbody>\n    <tr>\n      <th>0</th>\n      <td>Sum Dang Good Chinese</td>\n      <td>Chinese Restaurant</td>\n      <td>3011 Gulden Ln</td>\n      <td>US</td>\n      <td>Dallas</td>\n      <td>United States</td>\n      <td>81</td>\n      <td>[3011 Gulden Ln, Dallas, TX 75212, United States]</td>\n      <td>[{'label': 'display', 'lat': 32.779453, 'lng':...</td>\n      <td>32.779453</td>\n      <td>-96.828723</td>\n      <td>75212</td>\n      <td>TX</td>\n      <td>5ee910fed7054d000853856f</td>\n    </tr>\n  </tbody>\n</table>\n</div>"
                    },
                    "metadata": {}
                }
            ]
        },
        {
            "metadata": {},
            "cell_type": "code",
            "source": "dataframe_filtered.name",
            "execution_count": 13,
            "outputs": [
                {
                    "output_type": "execute_result",
                    "execution_count": 13,
                    "data": {
                        "text/plain": "0    Sum Dang Good Chinese\nName: name, dtype: object"
                    },
                    "metadata": {}
                }
            ]
        },
        {
            "metadata": {},
            "cell_type": "code",
            "source": "venues_map = folium.Map(location=[latitude, longitude], zoom_start=13) # generate map centred around the Conrad Hotel\n\n# add a red circle marker to represent the Conrad Hotel\nfolium.features.CircleMarker(\n    [latitude, longitude],\n    radius=10,\n    color='red',\n    popup='Conrad Hotel',\n    fill = True,\n    fill_color = 'red',\n    fill_opacity = 0.6\n).add_to(venues_map)\n\n# add the Italian restaurants as blue circle markers\nfor lat, lng, label in zip(dataframe_filtered.lat, dataframe_filtered.lng, dataframe_filtered.categories):\n    folium.features.CircleMarker(\n        [lat, lng],\n        radius=5,\n        color='blue',\n        popup=label,\n        fill = True,\n        fill_color='blue',\n        fill_opacity=0.6\n    ).add_to(venues_map)\n\n# display map\nvenues_map",
            "execution_count": 14,
            "outputs": [
                {
                    "output_type": "execute_result",
                    "execution_count": 14,
                    "data": {
                        "text/plain": "<folium.folium.Map at 0x7f0881142208>",
                        "text/html": "<div style=\"width:100%;\"><div style=\"position:relative;width:100%;height:0;padding-bottom:60%;\"><span style=\"color:#565656\">Make this Notebook Trusted to load map: File -> Trust Notebook</span><iframe src=\"about:blank\" style=\"position:absolute;width:100%;height:100%;left:0;top:0;border:none !important;\" data-html=PCFET0NUWVBFIGh0bWw+CjxoZWFkPiAgICAKICAgIDxtZXRhIGh0dHAtZXF1aXY9ImNvbnRlbnQtdHlwZSIgY29udGVudD0idGV4dC9odG1sOyBjaGFyc2V0PVVURi04IiAvPgogICAgPHNjcmlwdD5MX1BSRUZFUl9DQU5WQVMgPSBmYWxzZTsgTF9OT19UT1VDSCA9IGZhbHNlOyBMX0RJU0FCTEVfM0QgPSBmYWxzZTs8L3NjcmlwdD4KICAgIDxzY3JpcHQgc3JjPSJodHRwczovL2Nkbi5qc2RlbGl2ci5uZXQvbnBtL2xlYWZsZXRAMS4yLjAvZGlzdC9sZWFmbGV0LmpzIj48L3NjcmlwdD4KICAgIDxzY3JpcHQgc3JjPSJodHRwczovL2FqYXguZ29vZ2xlYXBpcy5jb20vYWpheC9saWJzL2pxdWVyeS8xLjExLjEvanF1ZXJ5Lm1pbi5qcyI+PC9zY3JpcHQ+CiAgICA8c2NyaXB0IHNyYz0iaHR0cHM6Ly9tYXhjZG4uYm9vdHN0cmFwY2RuLmNvbS9ib290c3RyYXAvMy4yLjAvanMvYm9vdHN0cmFwLm1pbi5qcyI+PC9zY3JpcHQ+CiAgICA8c2NyaXB0IHNyYz0iaHR0cHM6Ly9jZG5qcy5jbG91ZGZsYXJlLmNvbS9hamF4L2xpYnMvTGVhZmxldC5hd2Vzb21lLW1hcmtlcnMvMi4wLjIvbGVhZmxldC5hd2Vzb21lLW1hcmtlcnMuanMiPjwvc2NyaXB0PgogICAgPGxpbmsgcmVsPSJzdHlsZXNoZWV0IiBocmVmPSJodHRwczovL2Nkbi5qc2RlbGl2ci5uZXQvbnBtL2xlYWZsZXRAMS4yLjAvZGlzdC9sZWFmbGV0LmNzcyIvPgogICAgPGxpbmsgcmVsPSJzdHlsZXNoZWV0IiBocmVmPSJodHRwczovL21heGNkbi5ib290c3RyYXBjZG4uY29tL2Jvb3RzdHJhcC8zLjIuMC9jc3MvYm9vdHN0cmFwLm1pbi5jc3MiLz4KICAgIDxsaW5rIHJlbD0ic3R5bGVzaGVldCIgaHJlZj0iaHR0cHM6Ly9tYXhjZG4uYm9vdHN0cmFwY2RuLmNvbS9ib290c3RyYXAvMy4yLjAvY3NzL2Jvb3RzdHJhcC10aGVtZS5taW4uY3NzIi8+CiAgICA8bGluayByZWw9InN0eWxlc2hlZXQiIGhyZWY9Imh0dHBzOi8vbWF4Y2RuLmJvb3RzdHJhcGNkbi5jb20vZm9udC1hd2Vzb21lLzQuNi4zL2Nzcy9mb250LWF3ZXNvbWUubWluLmNzcyIvPgogICAgPGxpbmsgcmVsPSJzdHlsZXNoZWV0IiBocmVmPSJodHRwczovL2NkbmpzLmNsb3VkZmxhcmUuY29tL2FqYXgvbGlicy9MZWFmbGV0LmF3ZXNvbWUtbWFya2Vycy8yLjAuMi9sZWFmbGV0LmF3ZXNvbWUtbWFya2Vycy5jc3MiLz4KICAgIDxsaW5rIHJlbD0ic3R5bGVzaGVldCIgaHJlZj0iaHR0cHM6Ly9yYXdnaXQuY29tL3B5dGhvbi12aXN1YWxpemF0aW9uL2ZvbGl1bS9tYXN0ZXIvZm9saXVtL3RlbXBsYXRlcy9sZWFmbGV0LmF3ZXNvbWUucm90YXRlLmNzcyIvPgogICAgPHN0eWxlPmh0bWwsIGJvZHkge3dpZHRoOiAxMDAlO2hlaWdodDogMTAwJTttYXJnaW46IDA7cGFkZGluZzogMDt9PC9zdHlsZT4KICAgIDxzdHlsZT4jbWFwIHtwb3NpdGlvbjphYnNvbHV0ZTt0b3A6MDtib3R0b206MDtyaWdodDowO2xlZnQ6MDt9PC9zdHlsZT4KICAgIAogICAgICAgICAgICA8c3R5bGU+ICNtYXBfN2MyZGJhMzNjNGU2NGFhOTllZGZkNmRiMDhlNDYxZDMgewogICAgICAgICAgICAgICAgcG9zaXRpb24gOiByZWxhdGl2ZTsKICAgICAgICAgICAgICAgIHdpZHRoIDogMTAwLjAlOwogICAgICAgICAgICAgICAgaGVpZ2h0OiAxMDAuMCU7CiAgICAgICAgICAgICAgICBsZWZ0OiAwLjAlOwogICAgICAgICAgICAgICAgdG9wOiAwLjAlOwogICAgICAgICAgICAgICAgfQogICAgICAgICAgICA8L3N0eWxlPgogICAgICAgIAo8L2hlYWQ+Cjxib2R5PiAgICAKICAgIAogICAgICAgICAgICA8ZGl2IGNsYXNzPSJmb2xpdW0tbWFwIiBpZD0ibWFwXzdjMmRiYTMzYzRlNjRhYTk5ZWRmZDZkYjA4ZTQ2MWQzIiA+PC9kaXY+CiAgICAgICAgCjwvYm9keT4KPHNjcmlwdD4gICAgCiAgICAKCiAgICAgICAgICAgIAogICAgICAgICAgICAgICAgdmFyIGJvdW5kcyA9IG51bGw7CiAgICAgICAgICAgIAoKICAgICAgICAgICAgdmFyIG1hcF83YzJkYmEzM2M0ZTY0YWE5OWVkZmQ2ZGIwOGU0NjFkMyA9IEwubWFwKAogICAgICAgICAgICAgICAgICAgICAgICAgICAgICAgICAgJ21hcF83YzJkYmEzM2M0ZTY0YWE5OWVkZmQ2ZGIwOGU0NjFkMycsCiAgICAgICAgICAgICAgICAgICAgICAgICAgICAgICAgICB7Y2VudGVyOiBbMzIuNzc5MjI4MiwtOTYuODI3ODg5Nl0sCiAgICAgICAgICAgICAgICAgICAgICAgICAgICAgICAgICB6b29tOiAxMywKICAgICAgICAgICAgICAgICAgICAgICAgICAgICAgICAgIG1heEJvdW5kczogYm91bmRzLAogICAgICAgICAgICAgICAgICAgICAgICAgICAgICAgICAgbGF5ZXJzOiBbXSwKICAgICAgICAgICAgICAgICAgICAgICAgICAgICAgICAgIHdvcmxkQ29weUp1bXA6IGZhbHNlLAogICAgICAgICAgICAgICAgICAgICAgICAgICAgICAgICAgY3JzOiBMLkNSUy5FUFNHMzg1NwogICAgICAgICAgICAgICAgICAgICAgICAgICAgICAgICB9KTsKICAgICAgICAgICAgCiAgICAgICAgCiAgICAKICAgICAgICAgICAgdmFyIHRpbGVfbGF5ZXJfN2QzN2QzMDNlMTczNDNkZTk3ZjA1OWMzZDlkZGM2NWIgPSBMLnRpbGVMYXllcigKICAgICAgICAgICAgICAgICdodHRwczovL3tzfS50aWxlLm9wZW5zdHJlZXRtYXAub3JnL3t6fS97eH0ve3l9LnBuZycsCiAgICAgICAgICAgICAgICB7CiAgImF0dHJpYnV0aW9uIjogbnVsbCwKICAiZGV0ZWN0UmV0aW5hIjogZmFsc2UsCiAgIm1heFpvb20iOiAxOCwKICAibWluWm9vbSI6IDEsCiAgIm5vV3JhcCI6IGZhbHNlLAogICJzdWJkb21haW5zIjogImFiYyIKfQogICAgICAgICAgICAgICAgKS5hZGRUbyhtYXBfN2MyZGJhMzNjNGU2NGFhOTllZGZkNmRiMDhlNDYxZDMpOwogICAgICAgIAogICAgCiAgICAgICAgICAgIHZhciBjaXJjbGVfbWFya2VyXzQyZDAwNWYxZTQ5MzQ4MmViODBlNzIxYTA3ZGZmNGU5ID0gTC5jaXJjbGVNYXJrZXIoCiAgICAgICAgICAgICAgICBbMzIuNzc5MjI4MiwtOTYuODI3ODg5Nl0sCiAgICAgICAgICAgICAgICB7CiAgImJ1YmJsaW5nTW91c2VFdmVudHMiOiB0cnVlLAogICJjb2xvciI6ICJyZWQiLAogICJkYXNoQXJyYXkiOiBudWxsLAogICJkYXNoT2Zmc2V0IjogbnVsbCwKICAiZmlsbCI6IHRydWUsCiAgImZpbGxDb2xvciI6ICJyZWQiLAogICJmaWxsT3BhY2l0eSI6IDAuNiwKICAiZmlsbFJ1bGUiOiAiZXZlbm9kZCIsCiAgImxpbmVDYXAiOiAicm91bmQiLAogICJsaW5lSm9pbiI6ICJyb3VuZCIsCiAgIm9wYWNpdHkiOiAxLjAsCiAgInJhZGl1cyI6IDEwLAogICJzdHJva2UiOiB0cnVlLAogICJ3ZWlnaHQiOiAzCn0KICAgICAgICAgICAgICAgICkuYWRkVG8obWFwXzdjMmRiYTMzYzRlNjRhYTk5ZWRmZDZkYjA4ZTQ2MWQzKTsKICAgICAgICAgICAgCiAgICAKICAgICAgICAgICAgdmFyIHBvcHVwXzk2MTA0NjJmNzFlOTQ1NmY5YWRmMzUzYTZkNWY3ODBkID0gTC5wb3B1cCh7bWF4V2lkdGg6ICczMDAnfSk7CgogICAgICAgICAgICAKICAgICAgICAgICAgICAgIHZhciBodG1sX2ZhMzUwZjVkMGI3NjQwNzlhMjgzMjcwNDQ4N2E1YWJmID0gJCgnPGRpdiBpZD0iaHRtbF9mYTM1MGY1ZDBiNzY0MDc5YTI4MzI3MDQ0ODdhNWFiZiIgc3R5bGU9IndpZHRoOiAxMDAuMCU7IGhlaWdodDogMTAwLjAlOyI+Q29ucmFkIEhvdGVsPC9kaXY+JylbMF07CiAgICAgICAgICAgICAgICBwb3B1cF85NjEwNDYyZjcxZTk0NTZmOWFkZjM1M2E2ZDVmNzgwZC5zZXRDb250ZW50KGh0bWxfZmEzNTBmNWQwYjc2NDA3OWEyODMyNzA0NDg3YTVhYmYpOwogICAgICAgICAgICAKCiAgICAgICAgICAgIGNpcmNsZV9tYXJrZXJfNDJkMDA1ZjFlNDkzNDgyZWI4MGU3MjFhMDdkZmY0ZTkuYmluZFBvcHVwKHBvcHVwXzk2MTA0NjJmNzFlOTQ1NmY5YWRmMzUzYTZkNWY3ODBkKTsKCiAgICAgICAgICAgIAogICAgICAgIAogICAgCiAgICAgICAgICAgIHZhciBjaXJjbGVfbWFya2VyXzczMWExMmI4YmE0ZDRlNmZhNDYwNjllMjhmZjQ3ODcxID0gTC5jaXJjbGVNYXJrZXIoCiAgICAgICAgICAgICAgICBbMzIuNzc5NDUzLC05Ni44Mjg3MjNdLAogICAgICAgICAgICAgICAgewogICJidWJibGluZ01vdXNlRXZlbnRzIjogdHJ1ZSwKICAiY29sb3IiOiAiYmx1ZSIsCiAgImRhc2hBcnJheSI6IG51bGwsCiAgImRhc2hPZmZzZXQiOiBudWxsLAogICJmaWxsIjogdHJ1ZSwKICAiZmlsbENvbG9yIjogImJsdWUiLAogICJmaWxsT3BhY2l0eSI6IDAuNiwKICAiZmlsbFJ1bGUiOiAiZXZlbm9kZCIsCiAgImxpbmVDYXAiOiAicm91bmQiLAogICJsaW5lSm9pbiI6ICJyb3VuZCIsCiAgIm9wYWNpdHkiOiAxLjAsCiAgInJhZGl1cyI6IDUsCiAgInN0cm9rZSI6IHRydWUsCiAgIndlaWdodCI6IDMKfQogICAgICAgICAgICAgICAgKS5hZGRUbyhtYXBfN2MyZGJhMzNjNGU2NGFhOTllZGZkNmRiMDhlNDYxZDMpOwogICAgICAgICAgICAKICAgIAogICAgICAgICAgICB2YXIgcG9wdXBfMWQ3NTIxODg5N2MzNDljYThhNWRiMGZmNmY2YzBmMTUgPSBMLnBvcHVwKHttYXhXaWR0aDogJzMwMCd9KTsKCiAgICAgICAgICAgIAogICAgICAgICAgICAgICAgdmFyIGh0bWxfM2VkYWE2NTM3MjE2NGVkNTgzZTkxMWU2ZWJjOWY0ZTggPSAkKCc8ZGl2IGlkPSJodG1sXzNlZGFhNjUzNzIxNjRlZDU4M2U5MTFlNmViYzlmNGU4IiBzdHlsZT0id2lkdGg6IDEwMC4wJTsgaGVpZ2h0OiAxMDAuMCU7Ij5DaGluZXNlIFJlc3RhdXJhbnQ8L2Rpdj4nKVswXTsKICAgICAgICAgICAgICAgIHBvcHVwXzFkNzUyMTg4OTdjMzQ5Y2E4YTVkYjBmZjZmNmMwZjE1LnNldENvbnRlbnQoaHRtbF8zZWRhYTY1MzcyMTY0ZWQ1ODNlOTExZTZlYmM5ZjRlOCk7CiAgICAgICAgICAgIAoKICAgICAgICAgICAgY2lyY2xlX21hcmtlcl83MzFhMTJiOGJhNGQ0ZTZmYTQ2MDY5ZTI4ZmY0Nzg3MS5iaW5kUG9wdXAocG9wdXBfMWQ3NTIxODg5N2MzNDljYThhNWRiMGZmNmY2YzBmMTUpOwoKICAgICAgICAgICAgCiAgICAgICAgCjwvc2NyaXB0Pg== onload=\"this.contentDocument.open();this.contentDocument.write(atob(this.getAttribute('data-html')));this.contentDocument.close();\" allowfullscreen webkitallowfullscreen mozallowfullscreen></iframe></div></div>"
                    },
                    "metadata": {}
                }
            ]
        },
        {
            "metadata": {},
            "cell_type": "markdown",
            "source": "## Explore the given Venue"
        },
        {
            "metadata": {},
            "cell_type": "code",
            "source": "venue_id = '5ee910fed7054d000853856f'\nurl = 'https://api.foursquare.com/v2/venues/{}?client_id={}&client_secret={}&v={}'.format(venue_id, CLIENT_ID, CLIENT_SECRET, VERSION)\nurl",
            "execution_count": 15,
            "outputs": [
                {
                    "output_type": "execute_result",
                    "execution_count": 15,
                    "data": {
                        "text/plain": "'https://api.foursquare.com/v2/venues/5ee910fed7054d000853856f?client_id=KK2CAPVUQYDEWVDF0LXWA2H5D25OPJTZBIEY1RTQ1MZHGFF4&client_secret=JRVYNHJ3BZSDGQ2DMT04Z3PEQCRKE5EIV0WYQRY1OXGZUVBK&v=20180604'"
                    },
                    "metadata": {}
                }
            ]
        },
        {
            "metadata": {},
            "cell_type": "code",
            "source": "result = requests.get(url).json()\nprint(result['response']['venue'].keys())\nresult['response']['venue']",
            "execution_count": 16,
            "outputs": [
                {
                    "output_type": "stream",
                    "text": "dict_keys(['id', 'name', 'contact', 'location', 'canonicalUrl', 'categories', 'verified', 'stats', 'price', 'likes', 'dislike', 'ok', 'delivery', 'allowMenuUrlEdit', 'beenHere', 'specials', 'photos', 'reasons', 'hereNow', 'createdAt', 'tips', 'shortUrl', 'timeZone', 'listed', 'seasonalHours', 'pageUpdates', 'inbox', 'parent', 'hierarchy', 'attributes'])\n",
                    "name": "stdout"
                },
                {
                    "output_type": "execute_result",
                    "execution_count": 16,
                    "data": {
                        "text/plain": "{'id': '5ee910fed7054d000853856f',\n 'name': 'Sum Dang Good Chinese',\n 'contact': {},\n 'location': {'address': '3011 Gulden Ln',\n  'lat': 32.779453,\n  'lng': -96.828723,\n  'labeledLatLngs': [{'label': 'display',\n    'lat': 32.779453,\n    'lng': -96.828723}],\n  'postalCode': '75212',\n  'cc': 'US',\n  'city': 'Dallas',\n  'state': 'TX',\n  'country': 'United States',\n  'formattedAddress': ['3011 Gulden Ln', 'Dallas, TX 75212', 'United States']},\n 'canonicalUrl': 'https://foursquare.com/v/sum-dang-good-chinese/5ee910fed7054d000853856f',\n 'categories': [{'id': '4bf58dd8d48988d145941735',\n   'name': 'Chinese Restaurant',\n   'pluralName': 'Chinese Restaurants',\n   'shortName': 'Chinese',\n   'icon': {'prefix': 'https://ss3.4sqi.net/img/categories_v2/food/asian_',\n    'suffix': '.png'},\n   'primary': True}],\n 'verified': False,\n 'stats': {'tipCount': 0},\n 'price': {'tier': 1, 'message': 'Cheap', 'currency': '$'},\n 'likes': {'count': 1,\n  'groups': [{'type': 'others', 'count': 1, 'items': []}],\n  'summary': '1 Like'},\n 'dislike': False,\n 'ok': False,\n 'delivery': {'id': '2048307',\n  'url': 'https://www.grubhub.com/restaurant/sum-dang-good-3011-gulden-ln-dallas/2048307?affiliate=1131&utm_source=foursquare-affiliate-network&utm_medium=affiliate&utm_campaign=1131&utm_content=2048307',\n  'provider': {'name': 'grubhub',\n   'icon': {'prefix': 'https://fastly.4sqi.net/img/general/cap/',\n    'sizes': [40, 50],\n    'name': '/delivery_provider_grubhub_20180129.png'}}},\n 'allowMenuUrlEdit': True,\n 'beenHere': {'count': 0,\n  'unconfirmedCount': 0,\n  'marked': False,\n  'lastCheckinExpiredAt': 0},\n 'specials': {'count': 0, 'items': []},\n 'photos': {'count': 0, 'groups': []},\n 'reasons': {'count': 0, 'items': []},\n 'hereNow': {'count': 0, 'summary': 'Nobody here', 'groups': []},\n 'createdAt': 1592332542,\n 'tips': {'count': 0,\n  'groups': [{'type': 'others', 'name': 'All tips', 'count': 0, 'items': []}]},\n 'shortUrl': 'https://4sq.com/3hzC6bG',\n 'timeZone': 'America/Chicago',\n 'listed': {'count': 0,\n  'groups': [{'type': 'others',\n    'name': 'Lists from other people',\n    'count': 0,\n    'items': []}]},\n 'seasonalHours': [],\n 'pageUpdates': {'count': 0, 'items': []},\n 'inbox': {'count': 0, 'items': []},\n 'parent': {'id': '56945133498eb66a7f4496bf',\n  'name': 'Trinity Groves',\n  'location': {'address': '3011 Gulden Lane',\n   'lat': 32.779388,\n   'lng': -96.828367,\n   'labeledLatLngs': [{'label': 'display',\n     'lat': 32.779388,\n     'lng': -96.828367}],\n   'postalCode': '75212',\n   'cc': 'US',\n   'city': 'Dallas',\n   'state': 'TX',\n   'country': 'United States',\n   'formattedAddress': ['3011 Gulden Lane',\n    'Dallas, TX 75212',\n    'United States']},\n  'categories': [{'id': '4bf58dd8d48988d171941735',\n    'name': 'Event Space',\n    'pluralName': 'Event Spaces',\n    'shortName': 'Event Space',\n    'icon': {'prefix': 'https://ss3.4sqi.net/img/categories_v2/building/eventspace_',\n     'suffix': '.png'},\n    'primary': True}],\n  'venuePage': {'id': '462752808'}},\n 'hierarchy': [{'name': 'Trinity Groves',\n   'lang': 'en',\n   'id': '56945133498eb66a7f4496bf',\n   'canonicalUrl': 'https://foursquare.com/v/trinity-groves/56945133498eb66a7f4496bf'}],\n 'attributes': {'groups': [{'type': 'price',\n    'name': 'Price',\n    'summary': '$',\n    'count': 1,\n    'items': [{'displayName': 'Price',\n      'displayValue': '$',\n      'priceTier': 1}]}]}}"
                    },
                    "metadata": {}
                }
            ]
        },
        {
            "metadata": {},
            "cell_type": "code",
            "source": "result['response']['venue']['tips']['count']",
            "execution_count": 18,
            "outputs": [
                {
                    "output_type": "execute_result",
                    "execution_count": 18,
                    "data": {
                        "text/plain": "0"
                    },
                    "metadata": {}
                }
            ]
        },
        {
            "metadata": {},
            "cell_type": "code",
            "source": "venues = results['response']['groups'][0]['items']\n    \nnearby_venues = json_normalize(venues) # flatten JSON\n\n# filter columns\nfiltered_columns = ['venue.name', 'venue.categories', 'venue.location.lat', 'venue.location.lng']\nnearby_venues =nearby_venues.loc[:, filtered_columns]\n\n# filter the category for each row\nnearby_venues['venue.categories'] = nearby_venues.apply(get_category_type, axis=1)\n\n# clean columns\nnearby_venues.columns = [col.split(\".\")[-1] for col in nearby_venues.columns]\n\nnearby_venues.head()",
            "execution_count": 19,
            "outputs": [
                {
                    "output_type": "error",
                    "ename": "KeyError",
                    "evalue": "'groups'",
                    "traceback": [
                        "\u001b[0;31m---------------------------------------------------------------------------\u001b[0m",
                        "\u001b[0;31mKeyError\u001b[0m                                  Traceback (most recent call last)",
                        "\u001b[0;32m<ipython-input-19-561c05f0fdd1>\u001b[0m in \u001b[0;36m<module>\u001b[0;34m\u001b[0m\n\u001b[0;32m----> 1\u001b[0;31m \u001b[0mvenues\u001b[0m \u001b[0;34m=\u001b[0m \u001b[0mresults\u001b[0m\u001b[0;34m[\u001b[0m\u001b[0;34m'response'\u001b[0m\u001b[0;34m]\u001b[0m\u001b[0;34m[\u001b[0m\u001b[0;34m'groups'\u001b[0m\u001b[0;34m]\u001b[0m\u001b[0;34m[\u001b[0m\u001b[0;36m0\u001b[0m\u001b[0;34m]\u001b[0m\u001b[0;34m[\u001b[0m\u001b[0;34m'items'\u001b[0m\u001b[0;34m]\u001b[0m\u001b[0;34m\u001b[0m\u001b[0;34m\u001b[0m\u001b[0m\n\u001b[0m\u001b[1;32m      2\u001b[0m \u001b[0;34m\u001b[0m\u001b[0m\n\u001b[1;32m      3\u001b[0m \u001b[0mnearby_venues\u001b[0m \u001b[0;34m=\u001b[0m \u001b[0mjson_normalize\u001b[0m\u001b[0;34m(\u001b[0m\u001b[0mvenues\u001b[0m\u001b[0;34m)\u001b[0m \u001b[0;31m# flatten JSON\u001b[0m\u001b[0;34m\u001b[0m\u001b[0;34m\u001b[0m\u001b[0m\n\u001b[1;32m      4\u001b[0m \u001b[0;34m\u001b[0m\u001b[0m\n\u001b[1;32m      5\u001b[0m \u001b[0;31m# filter columns\u001b[0m\u001b[0;34m\u001b[0m\u001b[0;34m\u001b[0m\u001b[0;34m\u001b[0m\u001b[0m\n",
                        "\u001b[0;31mKeyError\u001b[0m: 'groups'"
                    ]
                }
            ]
        },
        {
            "metadata": {},
            "cell_type": "code",
            "source": "",
            "execution_count": null,
            "outputs": []
        }
    ],
    "metadata": {
        "kernelspec": {
            "name": "python3",
            "display_name": "Python 3.6",
            "language": "python"
        },
        "language_info": {
            "name": "python",
            "version": "3.6.9",
            "mimetype": "text/x-python",
            "codemirror_mode": {
                "name": "ipython",
                "version": 3
            },
            "pygments_lexer": "ipython3",
            "nbconvert_exporter": "python",
            "file_extension": ".py"
        }
    },
    "nbformat": 4,
    "nbformat_minor": 1
}